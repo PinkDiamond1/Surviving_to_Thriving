{
 "cells": [
  {
   "cell_type": "markdown",
   "metadata": {},
   "source": [
    "# Summarize WSF\n",
    "\n",
    "The World Settlement Footprint was officially launched in November 2021, [see the announcement here for more details](https://www.esa.int/Applications/Observing_the_Earth/Mapping_our_human_footprint_from_space).\n",
    "\n",
    "GOST have downloaded the evolution dataset, generated a VRT combining the ~5000 tiles, and uploaded to our private AWS bucket (wbgdecinternal-ntl). That dataset will be used to summarize change in the built up area in a variety of urban areas"
   ]
  },
  {
   "cell_type": "code",
   "execution_count": null,
   "metadata": {},
   "outputs": [],
   "source": [
    "import sys, os, importlib\n",
    "import rasterio\n",
    "\n",
    "import pandas as pd\n",
    "import geopandas as gpd\n",
    "\n",
    "try:\n",
    "    import GOSTRocks.rasterMisc as rMisc    \n",
    "    from GOSTRocks.misc import tPrint\n",
    "except:\n",
    "    print(\"Cannot find GOSTRocks\")\n"
   ]
  },
  {
   "cell_type": "code",
   "execution_count": null,
   "metadata": {},
   "outputs": [],
   "source": [
    "wsf_evolution = 's3://wbgdecinternal-ntl/GIS_Data/GLOBAL/WSFEvolution/WSF_Evolution.vrt'\n",
    "urban_extents = '/home/public/Data/GLOBAL/URBAN/GHS/GHS_STAT_UCDB2015MT_GLOBE_R2019A/GHS_STAT_UCDB2015MT_GLOBE_R2019A_V1_2.gpkg'\n",
    "out_folder = \"/home/wb411133/data/Projects/SD_FLAGSHIP/Data/GHS_URB_RES\"\n",
    "\n",
    "#Columns in urban database to keep in output - includes ID column and names\n",
    "inD_cols = ['ID_HDC_G0','CTR_MN_NM','CTR_MN_ISO','UC_NM_MN', 'UC_NM_LST'] \n",
    "unq_vals = [0] + list(range(1985, 2016))"
   ]
  },
  {
   "cell_type": "code",
   "execution_count": null,
   "metadata": {},
   "outputs": [],
   "source": [
    "inR = rasterio.open(wsf_evolution)\n",
    "inD = gpd.read_file(urban_extents)"
   ]
  },
  {
   "cell_type": "code",
   "execution_count": null,
   "metadata": {},
   "outputs": [],
   "source": [
    "res = rMisc.zonalStats(inD, inR, rastType='C', unqVals=unq_vals)\n",
    "\n",
    "named = pd.DataFrame(res, columns=[f'c_{x}' for x in unq_vals])\n",
    "for col in inD_cols:\n",
    "    named[col] = inD[col]\n",
    "\n",
    "named.to_csv(os.path.join(out_folder, \"WSF_Evolution.csv\"))"
   ]
  },
  {
   "cell_type": "markdown",
   "metadata": {},
   "source": [
    "# Map some results"
   ]
  },
  {
   "cell_type": "code",
   "execution_count": null,
   "metadata": {},
   "outputs": [],
   "source": [
    "# Select a single city in the dataset\n",
    "sel_city = inD.loc[inD['UC_NM_MN'] == \"Washington D.C.\"]\n",
    "sel_city"
   ]
  },
  {
   "cell_type": "code",
   "execution_count": null,
   "metadata": {},
   "outputs": [],
   "source": [
    "# I cannot get ipyleaflet to work on the JNB\n",
    "\n",
    "from ipyleaflet import Map, basemaps, basemap_to_tiles\n",
    "\n",
    "c = sel_city.unary_union.centroid\n",
    "m = Map(\n",
    "    basemap=basemap_to_tiles(basemaps.OpenStreetMap.BlackAndWhite),\n",
    "    center=(c.x,c.y),\n",
    "    zoom=8\n",
    ")\n",
    "\n",
    "m"
   ]
  },
  {
   "cell_type": "code",
   "execution_count": null,
   "metadata": {},
   "outputs": [],
   "source": []
  }
 ],
 "metadata": {
  "kernelspec": {
   "display_name": "Python (geog)",
   "language": "python",
   "name": "geog"
  },
  "language_info": {
   "codemirror_mode": {
    "name": "ipython",
    "version": 3
   },
   "file_extension": ".py",
   "mimetype": "text/x-python",
   "name": "python",
   "nbconvert_exporter": "python",
   "pygments_lexer": "ipython3",
   "version": "3.9.7"
  }
 },
 "nbformat": 4,
 "nbformat_minor": 2
}
