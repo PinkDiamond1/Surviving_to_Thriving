{
 "cells": [
  {
   "cell_type": "markdown",
   "metadata": {},
   "source": [
    "# Summarize SPEI\n",
    "\n",
    "... TBD ..."
   ]
  },
  {
   "cell_type": "code",
   "execution_count": 1,
   "metadata": {},
   "outputs": [],
   "source": [
    "import sys, os, importlib\n",
    "import rasterio\n",
    "\n",
    "import pandas as pd\n",
    "import geopandas as gpd\n",
    "\n",
    "try:\n",
    "    import GOSTRocks.rasterMisc as rMisc    \n",
    "    from GOSTRocks.misc import tPrint\n",
    "except:\n",
    "    print(\"Cannot find GOSTRocks\")\n"
   ]
  },
  {
   "cell_type": "code",
   "execution_count": 6,
   "metadata": {},
   "outputs": [],
   "source": [
    "spei_folder = '/home/public/Data/GLOBAL/CLIMATE/climate-indices/spei/spei-12/geotiff'\n",
    "spei_tiffs = [x for x in os.listdir(spei_folder) if x.endswith('.tif')]\n",
    "\n",
    "urban_extents = '/home/public/Data/GLOBAL/URBAN/GHS/GHS_STAT_UCDB2015MT_GLOBE_R2019A/GHS_STAT_UCDB2015MT_GLOBE_R2019A_V1_2.gpkg'\n",
    "out_folder = \"/home/wb411133/data/Projects/SD_FLAGSHIP/Data/GHS_URB_RES\"\n",
    "spei_summary_file = os.path.join(out_folder, \"SPEI_12.csv\")\n",
    "\n",
    "#Columns in urban database to keep in output - includes ID column and names\n",
    "inD_cols = ['ID_HDC_G0','CTR_MN_NM','CTR_MN_ISO','UC_NM_MN', 'UC_NM_LST'] \n",
    "unq_vals = [0] + list(range(1985, 2016))"
   ]
  },
  {
   "cell_type": "code",
   "execution_count": 4,
   "metadata": {},
   "outputs": [],
   "source": [
    "inD = gpd.read_file(urban_extents)"
   ]
  },
  {
   "cell_type": "code",
   "execution_count": 11,
   "metadata": {},
   "outputs": [
    {
     "data": {
      "text/plain": [
       "<Geographic 2D CRS: EPSG:4326>\n",
       "Name: WGS 84\n",
       "Axis Info [ellipsoidal]:\n",
       "- Lat[north]: Geodetic latitude (degree)\n",
       "- Lon[east]: Geodetic longitude (degree)\n",
       "Area of Use:\n",
       "- name: World.\n",
       "- bounds: (-180.0, -90.0, 180.0, 90.0)\n",
       "Datum: World Geodetic System 1984 ensemble\n",
       "- Ellipsoid: WGS 84\n",
       "- Prime Meridian: Greenwich"
      ]
     },
     "execution_count": 11,
     "metadata": {},
     "output_type": "execute_result"
    }
   ],
   "source": [
    "inD.crs"
   ]
  },
  {
   "cell_type": "code",
   "execution_count": null,
   "metadata": {
    "scrolled": true
   },
   "outputs": [
    {
     "name": "stdout",
     "output_type": "stream",
     "text": [
      "13:25:05\t1958-12-01\n",
      "13:25:25\t1959-01-01\n",
      "13:25:46\t1959-02-01\n",
      "13:26:06\t1959-03-01\n",
      "13:26:26\t1959-04-01\n",
      "13:26:47\t1959-05-01\n",
      "13:27:07\t1959-06-01\n",
      "13:27:27\t1959-07-01\n",
      "13:27:48\t1959-08-01\n",
      "13:28:08\t1959-09-01\n",
      "13:28:29\t1959-10-01\n",
      "13:28:49\t1959-11-01\n",
      "13:29:10\t1959-12-01\n",
      "13:29:31\t1960-01-01\n",
      "13:29:52\t1960-02-01\n",
      "13:30:12\t1960-03-01\n",
      "13:30:32\t1960-04-01\n",
      "13:30:53\t1960-05-01\n",
      "13:31:13\t1960-06-01\n",
      "13:31:34\t1960-07-01\n",
      "13:31:55\t1960-08-01\n",
      "13:32:16\t1960-09-01\n",
      "13:32:36\t1960-10-01\n",
      "13:32:56\t1960-11-01\n",
      "13:33:17\t1960-12-01\n",
      "13:33:37\t1961-01-01\n",
      "13:33:58\t1961-02-01\n",
      "13:34:18\t1961-03-01\n",
      "13:34:38\t1961-04-01\n",
      "13:34:59\t1961-05-01\n",
      "13:35:19\t1961-06-01\n",
      "13:35:40\t1961-07-01\n",
      "13:36:00\t1961-08-01\n",
      "13:36:21\t1961-09-01\n",
      "13:36:41\t1961-10-01\n",
      "13:37:01\t1961-11-01\n",
      "13:37:22\t1961-12-01\n",
      "13:37:42\t1962-01-01\n",
      "13:38:03\t1962-02-01\n",
      "13:38:23\t1962-03-01\n",
      "13:38:44\t1962-04-01\n",
      "13:39:04\t1962-05-01\n",
      "13:39:25\t1962-06-01\n",
      "13:39:45\t1962-07-01\n",
      "13:40:06\t1962-08-01\n",
      "13:40:26\t1962-09-01\n",
      "13:40:46\t1962-10-01\n",
      "13:41:07\t1962-11-01\n",
      "13:41:28\t1962-12-01\n",
      "13:41:48\t1963-01-01\n",
      "13:42:08\t1963-02-01\n",
      "13:42:29\t1963-03-01\n",
      "13:42:49\t1963-04-01\n",
      "13:43:10\t1963-05-01\n",
      "13:43:30\t1963-06-01\n",
      "13:43:51\t1963-07-01\n",
      "13:44:11\t1963-08-01\n",
      "13:44:31\t1963-09-01\n",
      "13:44:52\t1963-10-01\n",
      "13:45:12\t1963-11-01\n",
      "13:45:32\t1963-12-01\n",
      "13:45:53\t1964-01-01\n",
      "13:46:14\t1964-02-01\n",
      "13:46:34\t1964-03-01\n",
      "13:46:55\t1964-04-01\n",
      "13:47:15\t1964-05-01\n",
      "13:47:36\t1964-06-01\n",
      "13:47:56\t1964-07-01\n",
      "13:48:16\t1964-08-01\n",
      "13:48:37\t1964-09-01\n",
      "13:48:57\t1964-10-01\n",
      "13:49:17\t1964-11-01\n",
      "13:49:38\t1964-12-01\n",
      "13:49:59\t1965-01-01\n",
      "13:50:19\t1965-02-01\n",
      "13:50:40\t1965-03-01\n",
      "13:51:00\t1965-04-01\n",
      "13:51:20\t1965-05-01\n",
      "13:51:40\t1965-06-01\n",
      "13:52:01\t1965-07-01\n",
      "13:52:22\t1965-08-01\n",
      "13:52:42\t1965-09-01\n",
      "13:53:03\t1965-10-01\n",
      "13:53:23\t1965-11-01\n",
      "13:53:43\t1965-12-01\n",
      "13:54:04\t1966-01-01\n",
      "13:54:24\t1966-02-01\n",
      "13:54:45\t1966-03-01\n"
     ]
    }
   ],
   "source": [
    "final = inD.loc[:,inD_cols]\n",
    "\n",
    "if not os.path.exists(spei_summary_file):\n",
    "    for spei_tiff in spei_tiffs:\n",
    "        month = spei_tiff.split(\"_\")[-1][:-4]\n",
    "        tPrint(month)\n",
    "        inR = rasterio.open(os.path.join(spei_folder, spei_tiff))\n",
    "        inD.crs = inR.crs #The SPEI rasters look like they do not have crs set\n",
    "        res = rMisc.zonalStats(inD, inR)\n",
    "        named = pd.DataFrame(res, columns=['SUM','MIN','MAX','MEAN'])\n",
    "        final[month] = named['SUM']\n",
    "\n",
    "    final.to_csv(spei_summary_file)"
   ]
  }
 ],
 "metadata": {
  "kernelspec": {
   "display_name": "Python (geog)",
   "language": "python",
   "name": "geog"
  },
  "language_info": {
   "codemirror_mode": {
    "name": "ipython",
    "version": 3
   },
   "file_extension": ".py",
   "mimetype": "text/x-python",
   "name": "python",
   "nbconvert_exporter": "python",
   "pygments_lexer": "ipython3",
   "version": "3.9.7"
  }
 },
 "nbformat": 4,
 "nbformat_minor": 2
}
