{
 "cells": [
  {
   "cell_type": "code",
   "execution_count": 22,
   "metadata": {},
   "outputs": [
    {
     "name": "stdout",
     "output_type": "stream",
     "text": [
      "Cannot find GOST_Urban\n"
     ]
    }
   ],
   "source": [
    "import sys, os, importlib\n",
    "import rasterio\n",
    "\n",
    "import pandas as pd\n",
    "import geopandas as gpd\n",
    "\n",
    "try:\n",
    "    import GOSTRocks.rasterMisc as rMisc    \n",
    "    from GOSTRocks.misc import tPrint\n",
    "except:\n",
    "    print(\"Cannot find GOSTRocks\")\n"
   ]
  },
  {
   "cell_type": "code",
   "execution_count": 9,
   "metadata": {},
   "outputs": [],
   "source": [
    "ghs_smod = \"/home/public/Data/GLOBAL/URBAN/GHS/GHS_SMOD/GHS_SMOD_POP2015_GLOBE_R2019A_54009_1K_V2_0.tif\"\n",
    "ghs_pop =  \"/home/public/Data/GLOBAL/Population/GHS/GHS_POP_E2015_GLOBE_R2019A_54009_1K_V1_0.tif\"\n",
    "urbanVals = [11,12,13,21,22,23,30]\n",
    "\n",
    "urbanR = rasterio.open(ghs_smod)\n",
    "popR = rasterio.open(ghs_pop)"
   ]
  },
  {
   "cell_type": "code",
   "execution_count": 3,
   "metadata": {},
   "outputs": [
    {
     "data": {
      "text/plain": [
       "(18000, 36082)"
      ]
     },
     "execution_count": 3,
     "metadata": {},
     "output_type": "execute_result"
    }
   ],
   "source": [
    "urbanR.shape"
   ]
  },
  {
   "cell_type": "code",
   "execution_count": 4,
   "metadata": {},
   "outputs": [
    {
     "data": {
      "text/plain": [
       "(18000, 36082)"
      ]
     },
     "execution_count": 4,
     "metadata": {},
     "output_type": "execute_result"
    }
   ],
   "source": [
    "popR.shape"
   ]
  },
  {
   "cell_type": "code",
   "execution_count": 26,
   "metadata": {},
   "outputs": [],
   "source": [
    "extents_shapefile = \"/home/wb411133/data/Projects/SD_FLAGSHIP/Data/Global_fishnet_clip.shp\"\n",
    "inD = gpd.read_file(extents_shapefile)\n",
    "if inD.crs != urbanR.crs:\n",
    "    inD = inD.to_crs(urbanR.crs)"
   ]
  },
  {
   "cell_type": "code",
   "execution_count": 27,
   "metadata": {},
   "outputs": [
    {
     "data": {
      "text/html": [
       "<div>\n",
       "<style scoped>\n",
       "    .dataframe tbody tr th:only-of-type {\n",
       "        vertical-align: middle;\n",
       "    }\n",
       "\n",
       "    .dataframe tbody tr th {\n",
       "        vertical-align: top;\n",
       "    }\n",
       "\n",
       "    .dataframe thead th {\n",
       "        text-align: right;\n",
       "    }\n",
       "</style>\n",
       "<table border=\"1\" class=\"dataframe\">\n",
       "  <thead>\n",
       "    <tr style=\"text-align: right;\">\n",
       "      <th></th>\n",
       "      <th>c_11</th>\n",
       "      <th>c_12</th>\n",
       "      <th>c_13</th>\n",
       "      <th>c_21</th>\n",
       "      <th>c_22</th>\n",
       "      <th>c_23</th>\n",
       "      <th>c_30</th>\n",
       "    </tr>\n",
       "  </thead>\n",
       "  <tbody>\n",
       "    <tr>\n",
       "      <th>0</th>\n",
       "      <td>-1</td>\n",
       "      <td>-1</td>\n",
       "      <td>-1</td>\n",
       "      <td>-1</td>\n",
       "      <td>-1</td>\n",
       "      <td>-1</td>\n",
       "      <td>-1</td>\n",
       "    </tr>\n",
       "    <tr>\n",
       "      <th>1</th>\n",
       "      <td>-1</td>\n",
       "      <td>-1</td>\n",
       "      <td>-1</td>\n",
       "      <td>-1</td>\n",
       "      <td>-1</td>\n",
       "      <td>-1</td>\n",
       "      <td>-1</td>\n",
       "    </tr>\n",
       "    <tr>\n",
       "      <th>2</th>\n",
       "      <td>-1</td>\n",
       "      <td>-1</td>\n",
       "      <td>-1</td>\n",
       "      <td>-1</td>\n",
       "      <td>-1</td>\n",
       "      <td>-1</td>\n",
       "      <td>-1</td>\n",
       "    </tr>\n",
       "    <tr>\n",
       "      <th>3</th>\n",
       "      <td>-1</td>\n",
       "      <td>-1</td>\n",
       "      <td>-1</td>\n",
       "      <td>-1</td>\n",
       "      <td>-1</td>\n",
       "      <td>-1</td>\n",
       "      <td>-1</td>\n",
       "    </tr>\n",
       "    <tr>\n",
       "      <th>4</th>\n",
       "      <td>-1</td>\n",
       "      <td>-1</td>\n",
       "      <td>-1</td>\n",
       "      <td>-1</td>\n",
       "      <td>-1</td>\n",
       "      <td>-1</td>\n",
       "      <td>-1</td>\n",
       "    </tr>\n",
       "  </tbody>\n",
       "</table>\n",
       "</div>"
      ],
      "text/plain": [
       "   c_11  c_12  c_13  c_21  c_22  c_23  c_30\n",
       "0    -1    -1    -1    -1    -1    -1    -1\n",
       "1    -1    -1    -1    -1    -1    -1    -1\n",
       "2    -1    -1    -1    -1    -1    -1    -1\n",
       "3    -1    -1    -1    -1    -1    -1    -1\n",
       "4    -1    -1    -1    -1    -1    -1    -1"
      ]
     },
     "execution_count": 27,
     "metadata": {},
     "output_type": "execute_result"
    }
   ],
   "source": [
    "# calculate area of each class in extents\n",
    "res_urban = rMisc.zonalStats(inD, urbanR, rastType='C', unqVals=urbanVals)\n",
    "res_urban = pd.DataFrame(res_urban, columns=['c_%s' % x for x in urbanVals])\n",
    "res_urban.head()"
   ]
  },
  {
   "cell_type": "code",
   "execution_count": 61,
   "metadata": {},
   "outputs": [],
   "source": [
    "try:\n",
    "    res_urban.drop(['major_lc_area'], axis=1, inplace=True)\n",
    "except:\n",
    "    pass\n",
    "\n",
    "def get_max_column(x):\n",
    "    x = x.astype(float)\n",
    "    try:        \n",
    "        return(x.idxmax())\n",
    "    except:\n",
    "        return('-1')\n",
    "\n",
    "res_urban['major_lc_area'] = res_urban.apply(get_max_column, axis=1)"
   ]
  },
  {
   "cell_type": "code",
   "execution_count": 62,
   "metadata": {},
   "outputs": [
    {
     "data": {
      "text/plain": [
       "c_11    94994\n",
       "c_12      515\n",
       "c_21      207\n",
       "c_30      175\n",
       "c_13       60\n",
       "c_23       12\n",
       "c_22        7\n",
       "Name: major_lc_area, dtype: int64"
      ]
     },
     "execution_count": 62,
     "metadata": {},
     "output_type": "execute_result"
    }
   ],
   "source": [
    "res_urban['major_lc_area'].value_counts()"
   ]
  },
  {
   "cell_type": "code",
   "execution_count": 18,
   "metadata": {},
   "outputs": [],
   "source": [
    "urban_data = urbanR.read()\n",
    "pop_data = popR.read()"
   ]
  },
  {
   "cell_type": "code",
   "execution_count": 29,
   "metadata": {},
   "outputs": [
    {
     "name": "stdout",
     "output_type": "stream",
     "text": [
      "22:27:41\t11\n",
      "22:30:18\t12\n",
      "22:33:06\t13\n",
      "22:35:53\t21\n",
      "22:38:40\t22\n",
      "22:41:27\t23\n",
      "22:44:15\t30\n"
     ]
    }
   ],
   "source": [
    "# calculate population in each urban class\n",
    "allRes = inD\n",
    "for urban_val in urbanVals:\n",
    "    tPrint(urban_val)\n",
    "    curR = urban_data == urban_val\n",
    "    curPop = curR * pop_data\n",
    "    with rMisc.create_rasterio_inmemory(popR.profile, curPop) as tempPopR:\n",
    "        resPop = rMisc.zonalStats(inD, tempPopR, minVal=0)\n",
    "        resPop = pd.DataFrame(resPop, columns=['SUM', 'MIN', 'MAX', 'MEAN'])\n",
    "        inD['Pop_%s' % urban_val] = resPop['SUM']\n",
    "        \n",
    "        "
   ]
  },
  {
   "cell_type": "code",
   "execution_count": 72,
   "metadata": {},
   "outputs": [],
   "source": [
    "try:\n",
    "    inD.drop(['major_lc_pop'], axis=1, inplace=True)\n",
    "except:\n",
    "    pass\n",
    "\n",
    "def is_unique(s):\n",
    "    a = s.to_numpy() # s.values (pandas<0.24)\n",
    "    return (a[0] == a).all()\n",
    "\n",
    "def get_max_column(x):\n",
    "    x = x.astype(float)\n",
    "    if is_unique(x):\n",
    "        return('-1')\n",
    "    try:        \n",
    "        return(x.idxmax())\n",
    "    except:\n",
    "        return('-1')\n",
    "\n",
    "inD['major_lc_pop'] = inD.iloc[:,-7:].apply(get_max_column, axis=1)"
   ]
  },
  {
   "cell_type": "code",
   "execution_count": 73,
   "metadata": {},
   "outputs": [
    {
     "data": {
      "text/plain": [
       "Pop_12    32795\n",
       "-1        26894\n",
       "Pop_11    11846\n",
       "Pop_13     9014\n",
       "Pop_23     7105\n",
       "Pop_30     6080\n",
       "Pop_22     1276\n",
       "Pop_21      960\n",
       "Name: major_lc_pop, dtype: int64"
      ]
     },
     "execution_count": 73,
     "metadata": {},
     "output_type": "execute_result"
    }
   ],
   "source": [
    "inD['major_lc_pop'].value_counts()"
   ]
  },
  {
   "cell_type": "code",
   "execution_count": 74,
   "metadata": {},
   "outputs": [],
   "source": [
    "inD.join(res_urban).to_csv(extents_shapefile.replace(\".shp\", \"_GHS_URBAN.csv\"))"
   ]
  },
  {
   "cell_type": "code",
   "execution_count": 75,
   "metadata": {},
   "outputs": [
    {
     "data": {
      "text/plain": [
       "<Projected CRS: ESRI:54009>\n",
       "Name: World_Mollweide\n",
       "Axis Info [cartesian]:\n",
       "- [east]: Easting (metre)\n",
       "- [north]: Northing (metre)\n",
       "Area of Use:\n",
       "- undefined\n",
       "Coordinate Operation:\n",
       "- name: unnamed\n",
       "- method: Mollweide\n",
       "Datum: World Geodetic System 1984\n",
       "- Ellipsoid: WGS 84\n",
       "- Prime Meridian: Greenwich"
      ]
     },
     "execution_count": 75,
     "metadata": {},
     "output_type": "execute_result"
    }
   ],
   "source": [
    "inD.crs"
   ]
  },
  {
   "cell_type": "code",
   "execution_count": 76,
   "metadata": {},
   "outputs": [
    {
     "data": {
      "text/html": [
       "<div>\n",
       "<style scoped>\n",
       "    .dataframe tbody tr th:only-of-type {\n",
       "        vertical-align: middle;\n",
       "    }\n",
       "\n",
       "    .dataframe tbody tr th {\n",
       "        vertical-align: top;\n",
       "    }\n",
       "\n",
       "    .dataframe thead th {\n",
       "        text-align: right;\n",
       "    }\n",
       "</style>\n",
       "<table border=\"1\" class=\"dataframe\">\n",
       "  <thead>\n",
       "    <tr style=\"text-align: right;\">\n",
       "      <th></th>\n",
       "      <th>OBJECTID</th>\n",
       "      <th>Id</th>\n",
       "      <th>Lon</th>\n",
       "      <th>Lat</th>\n",
       "      <th>Shape_Leng</th>\n",
       "      <th>Shape_Area</th>\n",
       "      <th>geometry</th>\n",
       "      <th>Pop_11</th>\n",
       "      <th>Pop_12</th>\n",
       "      <th>Pop_13</th>\n",
       "      <th>Pop_21</th>\n",
       "      <th>Pop_22</th>\n",
       "      <th>Pop_23</th>\n",
       "      <th>Pop_30</th>\n",
       "      <th>major_lc_pop</th>\n",
       "    </tr>\n",
       "  </thead>\n",
       "  <tbody>\n",
       "    <tr>\n",
       "      <th>0</th>\n",
       "      <td>1</td>\n",
       "      <td>0</td>\n",
       "      <td>-179.75</td>\n",
       "      <td>-89.75</td>\n",
       "      <td>2.0</td>\n",
       "      <td>0.25</td>\n",
       "      <td>POLYGON ((-0.000 -9020047.848, -0.000 -9020047...</td>\n",
       "      <td>-1.0</td>\n",
       "      <td>-1.0</td>\n",
       "      <td>-1.0</td>\n",
       "      <td>-1.0</td>\n",
       "      <td>-1.0</td>\n",
       "      <td>-1.0</td>\n",
       "      <td>-1.0</td>\n",
       "      <td>-1</td>\n",
       "    </tr>\n",
       "    <tr>\n",
       "      <th>1</th>\n",
       "      <td>2</td>\n",
       "      <td>0</td>\n",
       "      <td>-179.25</td>\n",
       "      <td>-89.75</td>\n",
       "      <td>2.0</td>\n",
       "      <td>0.25</td>\n",
       "      <td>POLYGON ((-0.000 -9020047.848, -0.000 -9020047...</td>\n",
       "      <td>-1.0</td>\n",
       "      <td>-1.0</td>\n",
       "      <td>-1.0</td>\n",
       "      <td>-1.0</td>\n",
       "      <td>-1.0</td>\n",
       "      <td>-1.0</td>\n",
       "      <td>-1.0</td>\n",
       "      <td>-1</td>\n",
       "    </tr>\n",
       "    <tr>\n",
       "      <th>2</th>\n",
       "      <td>3</td>\n",
       "      <td>0</td>\n",
       "      <td>-178.75</td>\n",
       "      <td>-89.75</td>\n",
       "      <td>2.0</td>\n",
       "      <td>0.25</td>\n",
       "      <td>POLYGON ((-0.000 -9020047.848, -0.000 -9020047...</td>\n",
       "      <td>-1.0</td>\n",
       "      <td>-1.0</td>\n",
       "      <td>-1.0</td>\n",
       "      <td>-1.0</td>\n",
       "      <td>-1.0</td>\n",
       "      <td>-1.0</td>\n",
       "      <td>-1.0</td>\n",
       "      <td>-1</td>\n",
       "    </tr>\n",
       "    <tr>\n",
       "      <th>3</th>\n",
       "      <td>4</td>\n",
       "      <td>0</td>\n",
       "      <td>-178.25</td>\n",
       "      <td>-89.75</td>\n",
       "      <td>2.0</td>\n",
       "      <td>0.25</td>\n",
       "      <td>POLYGON ((-0.000 -9020047.848, -0.000 -9020047...</td>\n",
       "      <td>-1.0</td>\n",
       "      <td>-1.0</td>\n",
       "      <td>-1.0</td>\n",
       "      <td>-1.0</td>\n",
       "      <td>-1.0</td>\n",
       "      <td>-1.0</td>\n",
       "      <td>-1.0</td>\n",
       "      <td>-1</td>\n",
       "    </tr>\n",
       "    <tr>\n",
       "      <th>4</th>\n",
       "      <td>5</td>\n",
       "      <td>0</td>\n",
       "      <td>-177.75</td>\n",
       "      <td>-89.75</td>\n",
       "      <td>2.0</td>\n",
       "      <td>0.25</td>\n",
       "      <td>POLYGON ((-0.000 -9020047.848, -0.000 -9020047...</td>\n",
       "      <td>-1.0</td>\n",
       "      <td>-1.0</td>\n",
       "      <td>-1.0</td>\n",
       "      <td>-1.0</td>\n",
       "      <td>-1.0</td>\n",
       "      <td>-1.0</td>\n",
       "      <td>-1.0</td>\n",
       "      <td>-1</td>\n",
       "    </tr>\n",
       "  </tbody>\n",
       "</table>\n",
       "</div>"
      ],
      "text/plain": [
       "   OBJECTID  Id     Lon    Lat  Shape_Leng  Shape_Area  \\\n",
       "0         1   0 -179.75 -89.75         2.0        0.25   \n",
       "1         2   0 -179.25 -89.75         2.0        0.25   \n",
       "2         3   0 -178.75 -89.75         2.0        0.25   \n",
       "3         4   0 -178.25 -89.75         2.0        0.25   \n",
       "4         5   0 -177.75 -89.75         2.0        0.25   \n",
       "\n",
       "                                            geometry  Pop_11  Pop_12  Pop_13  \\\n",
       "0  POLYGON ((-0.000 -9020047.848, -0.000 -9020047...    -1.0    -1.0    -1.0   \n",
       "1  POLYGON ((-0.000 -9020047.848, -0.000 -9020047...    -1.0    -1.0    -1.0   \n",
       "2  POLYGON ((-0.000 -9020047.848, -0.000 -9020047...    -1.0    -1.0    -1.0   \n",
       "3  POLYGON ((-0.000 -9020047.848, -0.000 -9020047...    -1.0    -1.0    -1.0   \n",
       "4  POLYGON ((-0.000 -9020047.848, -0.000 -9020047...    -1.0    -1.0    -1.0   \n",
       "\n",
       "   Pop_21  Pop_22  Pop_23  Pop_30 major_lc_pop  \n",
       "0    -1.0    -1.0    -1.0    -1.0           -1  \n",
       "1    -1.0    -1.0    -1.0    -1.0           -1  \n",
       "2    -1.0    -1.0    -1.0    -1.0           -1  \n",
       "3    -1.0    -1.0    -1.0    -1.0           -1  \n",
       "4    -1.0    -1.0    -1.0    -1.0           -1  "
      ]
     },
     "execution_count": 76,
     "metadata": {},
     "output_type": "execute_result"
    }
   ],
   "source": [
    "inD.head()"
   ]
  },
  {
   "cell_type": "code",
   "execution_count": 77,
   "metadata": {},
   "outputs": [
    {
     "data": {
      "text/plain": [
       "Index(['OBJECTID', 'Id', 'Lon', 'Lat', 'Shape_Leng', 'Shape_Area', 'geometry',\n",
       "       'Pop_11', 'Pop_12', 'Pop_13', 'Pop_21', 'Pop_22', 'Pop_23', 'Pop_30',\n",
       "       'major_lc_pop'],\n",
       "      dtype='object')"
      ]
     },
     "execution_count": 77,
     "metadata": {},
     "output_type": "execute_result"
    }
   ],
   "source": [
    "inD.columns"
   ]
  },
  {
   "cell_type": "code",
   "execution_count": null,
   "metadata": {},
   "outputs": [],
   "source": []
  }
 ],
 "metadata": {
  "kernelspec": {
   "display_name": "Earth Engine",
   "language": "python",
   "name": "ee"
  },
  "language_info": {
   "codemirror_mode": {
    "name": "ipython",
    "version": 3
   },
   "file_extension": ".py",
   "mimetype": "text/x-python",
   "name": "python",
   "nbconvert_exporter": "python",
   "pygments_lexer": "ipython3",
   "version": "3.9.4"
  }
 },
 "nbformat": 4,
 "nbformat_minor": 2
}
